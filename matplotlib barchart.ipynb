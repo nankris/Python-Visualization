{
 "cells": [
  {
   "cell_type": "code",
   "execution_count": 1,
   "metadata": {},
   "outputs": [
    {
     "data": {
      "text/plain": [
       "<Figure size 640x480 with 1 Axes>"
      ]
     },
     "metadata": {},
     "output_type": "display_data"
    }
   ],
   "source": [
    "import numpy as np\n",
    "import matplotlib.pyplot as plt\n",
    " \n",
    "# Choose the height of the bars\n",
    "height = [2.8, 6.9]\n",
    " \n",
    "# Choose the names of the bars\n",
    "bars = ('2020', '2025')\n",
    "#y_pos = np.arange(len(bars))\n",
    "\n",
    "x_pos = [i for i, _ in enumerate(bars)]\n",
    "\n",
    "fig, ax = plt.subplots()\n",
    "rects1 = ax.bar(x_pos, height, color = (0.2, 0.4, 0.6, 0.6), edgecolor='black', linewidth=1)\n",
    "\n",
    "# Create bars\n",
    "#plt.bar(y_pos, height, color = (0.5,0.1,0.5,0.6))\n",
    "\n",
    "#plt.bar(y_pos, height, color = (0.2, 0.4, 0.6, 0.6), edgecolor='black', linewidth=1)\n",
    "\n",
    "#plt.bar(y_pos, height, color=[(0.2, 0.4, 0.6, 0.6), (0.5,0.1,0.5,0.6),])\n",
    "\n",
    "\n",
    "# Create names on the x-axis\n",
    "#plt.xticks(y_pos, bars, color='black', rotation=45)\n",
    "plt.xticks(x_pos, bars, color='black')\n",
    "plt.yticks(color='black')\n",
    "\n",
    "plt.subplots_adjust(bottom=0.1, top=0.99)\n",
    "\n",
    "plt.title('ToF Sensor Market Growth', x=0.5,y=1.1)\n",
    "plt.xlabel('Year', fontweight='bold', color = 'black', fontsize='18')\n",
    "plt.ylabel('CAGR in Billions')\n",
    "\n",
    "\n",
    "def autolabel(rects):\n",
    "    \"\"\"\n",
    "    Attach a text label above each bar displaying its height\n",
    "    \"\"\"\n",
    "    for rect in rects:\n",
    "        height = rect.get_height()\n",
    "        ax.text(rect.get_x() + rect.get_width()/2., 1.05*height,\n",
    "                '%f' % float(height),\n",
    "        ha='center', va='bottom')\n",
    "autolabel(rects1)\n",
    "\n",
    "ax.set_facecolor(\"#eafff5\")\n",
    "\n",
    "# Show graphic\n",
    "plt.show()"
   ]
  }
 ],
 "metadata": {
  "kernelspec": {
   "display_name": "Python 3",
   "language": "python",
   "name": "python3"
  },
  "language_info": {
   "codemirror_mode": {
    "name": "ipython",
    "version": 3
   },
   "file_extension": ".py",
   "mimetype": "text/x-python",
   "name": "python",
   "nbconvert_exporter": "python",
   "pygments_lexer": "ipython3",
   "version": "3.6.4"
  }
 },
 "nbformat": 4,
 "nbformat_minor": 2
}
